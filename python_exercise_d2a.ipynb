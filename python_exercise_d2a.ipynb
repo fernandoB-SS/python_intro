{
 "cells": [
  {
   "cell_type": "markdown",
   "id": "54433bb0",
   "metadata": {},
   "source": [
    "Write a string that returns just the letter ‘r’ from ‘Hello World’\n",
    "For example, ‘Hello World’[0] returns ‘H’.You should write one line of code. Don’t assign a variable name to the string.\n"
   ]
  },
  {
   "cell_type": "code",
   "execution_count": 4,
   "id": "0a96bee8",
   "metadata": {},
   "outputs": [
    {
     "name": "stdout",
     "output_type": "stream",
     "text": [
      "r\n"
     ]
    }
   ],
   "source": [
    "print(\"Hello World\"[8])"
   ]
  },
  {
   "cell_type": "markdown",
   "id": "d681b3f4",
   "metadata": {},
   "source": [
    "String slicing to grab the word ‘ink’ from the word  ‘thinker’\n"
   ]
  },
  {
   "cell_type": "code",
   "execution_count": 8,
   "id": "190ac7bb",
   "metadata": {},
   "outputs": [
    {
     "name": "stdout",
     "output_type": "stream",
     "text": [
      "ink\n"
     ]
    }
   ],
   "source": [
    "s = \"thinker\"\n",
    "print(s[2:5])"
   ]
  },
  {
   "cell_type": "markdown",
   "id": "991faf18",
   "metadata": {},
   "source": [
    "S=’Sammy’ what is the output of s[2:]\n"
   ]
  },
  {
   "cell_type": "code",
   "execution_count": 11,
   "id": "9dae5995",
   "metadata": {},
   "outputs": [
    {
     "name": "stdout",
     "output_type": "stream",
     "text": [
      "ippississiM\n"
     ]
    }
   ],
   "source": [
    "print(\"Mississippi\"[::-1])"
   ]
  },
  {
   "cell_type": "code",
   "execution_count": 33,
   "id": "ec229e60",
   "metadata": {},
   "outputs": [
    {
     "name": "stdout",
     "output_type": "stream",
     "text": [
      "Please enter number of phrases3\n",
      "Enter phrase number 1: olo\n",
      "Enter phrase number 2: hola\n",
      "Enter phrase number 3: foof\n",
      "Palindrome\n",
      "Not a Palindroma\n",
      "Palindrome\n"
     ]
    }
   ],
   "source": [
    "user_number_phrases = int(input(\"Please enter number of phrases\"))\n",
    "i = 0\n",
    "phrases_list = []\n",
    "\n",
    "# Populate list appending user input\n",
    "\n",
    "while i < user_number_phrases:\n",
    "    i += 1\n",
    "    user_input = input(\"Enter phrase number {}: \".format(i) )\n",
    "    phrases_list.append(user_input)\n",
    "\n",
    "for el in phrases_list:\n",
    "    if el == el[::-1]:\n",
    "        print(\"Palindrome\")\n",
    "    else:\n",
    "        print(\"Not a Palindroma\")\n"
   ]
  },
  {
   "cell_type": "code",
   "execution_count": null,
   "id": "7f99519a",
   "metadata": {},
   "outputs": [],
   "source": []
  }
 ],
 "metadata": {
  "kernelspec": {
   "display_name": "Python 3",
   "language": "python",
   "name": "python3"
  },
  "language_info": {
   "codemirror_mode": {
    "name": "ipython",
    "version": 3
   },
   "file_extension": ".py",
   "mimetype": "text/x-python",
   "name": "python",
   "nbconvert_exporter": "python",
   "pygments_lexer": "ipython3",
   "version": "3.8.8"
  }
 },
 "nbformat": 4,
 "nbformat_minor": 5
}
