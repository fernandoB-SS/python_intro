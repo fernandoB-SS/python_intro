{
 "cells": [
  {
   "cell_type": "markdown",
   "id": "caf4a6c4",
   "metadata": {},
   "source": [
    "Three is a Crowd\n",
    "Make a list of names that includes at least four people.\n",
    "Write an if test that prints a message about the room being crowded, if there are more than three people in your list.\n",
    "Modify your list so that there are only two people in it. \n",
    "Use one of the methods for removing people from the list, don't just redefine the list.\n",
    "Run your if test again. There should be no output this time, because there are less than three people in the list.\n",
    "Bonus: Store your if test in a function called something like crowd_test."
   ]
  },
  {
   "cell_type": "code",
   "execution_count": 18,
   "id": "4899a3aa",
   "metadata": {},
   "outputs": [],
   "source": [
    "crowd_list = [\"John\", \"Dom\", \"Jack\",\"Wendy\"]\n",
    "\n",
    "def crowd_test(crowd):\n",
    "    #   remove last element of list\n",
    "    crowd_list.pop()\n",
    "    if len(crowd) > 3:\n",
    "        print(\"Room is crowded\")\n",
    "\n",
    "crowd_test(crowd_list);\n"
   ]
  },
  {
   "cell_type": "code",
   "execution_count": null,
   "id": "929f09bb",
   "metadata": {},
   "outputs": [],
   "source": []
  }
 ],
 "metadata": {
  "kernelspec": {
   "display_name": "Python 3",
   "language": "python",
   "name": "python3"
  },
  "language_info": {
   "codemirror_mode": {
    "name": "ipython",
    "version": 3
   },
   "file_extension": ".py",
   "mimetype": "text/x-python",
   "name": "python",
   "nbconvert_exporter": "python",
   "pygments_lexer": "ipython3",
   "version": "3.8.8"
  }
 },
 "nbformat": 4,
 "nbformat_minor": 5
}
