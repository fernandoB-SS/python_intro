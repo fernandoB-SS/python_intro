{
 "cells": [
  {
   "cell_type": "markdown",
   "id": "dca2c140",
   "metadata": {},
   "source": [
    "Three is a Crowd - Part 2\n",
    "Save your program from Three is a Crowd under a new name.\n",
    "Add an else statement to your if tests. If the else statement is run, have it print a message that the room is not very crowded."
   ]
  },
  {
   "cell_type": "code",
   "execution_count": 1,
   "id": "70c641eb",
   "metadata": {},
   "outputs": [
    {
     "name": "stdout",
     "output_type": "stream",
     "text": [
      "Roo is not very crowded\n"
     ]
    }
   ],
   "source": [
    "crowd_list = [\"John\", \"Dom\", \"Jack\",\"Wendy\"]\n",
    "\n",
    "def crowd_test(crowd):\n",
    "    #   remove last element of list\n",
    "    crowd_list.pop()\n",
    "    if len(crowd) > 3:\n",
    "        print(\"Room is crowded\")\n",
    "    else:\n",
    "        print(\"Room is not very crowded\")\n",
    "\n",
    "crowd_test(crowd_list);"
   ]
  }
 ],
 "metadata": {
  "kernelspec": {
   "display_name": "Python 3",
   "language": "python",
   "name": "python3"
  },
  "language_info": {
   "codemirror_mode": {
    "name": "ipython",
    "version": 3
   },
   "file_extension": ".py",
   "mimetype": "text/x-python",
   "name": "python",
   "nbconvert_exporter": "python",
   "pygments_lexer": "ipython3",
   "version": "3.8.8"
  }
 },
 "nbformat": 4,
 "nbformat_minor": 5
}
