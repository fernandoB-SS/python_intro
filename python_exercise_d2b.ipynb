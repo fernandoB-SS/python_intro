{
 "cells": [
  {
   "cell_type": "markdown",
   "id": "aa8ea6f5",
   "metadata": {},
   "source": [
    "Create a list with one number, one word and one float value. Display the output of the list."
   ]
  },
  {
   "cell_type": "code",
   "execution_count": 3,
   "id": "47c425b5",
   "metadata": {},
   "outputs": [
    {
     "name": "stdout",
     "output_type": "stream",
     "text": [
      "[1, 'One word', 3.5]\n"
     ]
    }
   ],
   "source": [
    "my_list = [1, \"One word\", 3.5]\n",
    "\n",
    "print(my_list)"
   ]
  },
  {
   "cell_type": "markdown",
   "id": "6884edb3",
   "metadata": {},
   "source": [
    "I have a nested list [1,1[1,2]], how to grab the value of 2 from the list.\n"
   ]
  },
  {
   "cell_type": "code",
   "execution_count": 10,
   "id": "ea3ad66f",
   "metadata": {},
   "outputs": [
    {
     "name": "stdout",
     "output_type": "stream",
     "text": [
      "2\n"
     ]
    }
   ],
   "source": [
    "nested_list = [1, 1,[1,2]]\n",
    "print(nested_list[2][1])\n"
   ]
  },
  {
   "cell_type": "markdown",
   "id": "768f6cd8",
   "metadata": {},
   "source": [
    "lst=['a','b','c'] What is the result of lst[1:]?"
   ]
  },
  {
   "cell_type": "code",
   "execution_count": 12,
   "id": "68eeeac3",
   "metadata": {},
   "outputs": [
    {
     "data": {
      "text/plain": [
       "['b', 'c']"
      ]
     },
     "execution_count": 12,
     "metadata": {},
     "output_type": "execute_result"
    }
   ],
   "source": [
    "lst = ['a','b','c']\n",
    "# slicing [start:end:step]\n",
    "lst[1:]"
   ]
  },
  {
   "cell_type": "markdown",
   "id": "e0d65786",
   "metadata": {},
   "source": [
    "Create a dictionary with weekdays an keys and week index numbers as values.do assign dictionary to a variable"
   ]
  },
  {
   "cell_type": "code",
   "execution_count": 18,
   "id": "e3919514",
   "metadata": {},
   "outputs": [
    {
     "name": "stdout",
     "output_type": "stream",
     "text": [
      "{'Sunday': 1, 'Monday': 2, 'Tuesday': 3, 'Wednesday': 4, 'Thursday': 5, 'Friday': 6, 'Saturday': 7}\n"
     ]
    }
   ],
   "source": [
    "my_dictionary = {\n",
    "    \"Sunday\": 1,\n",
    "    \"Monday\": 2,\n",
    "    \"Tuesday\": 3,\n",
    "    \"Wednesday\": 4,\n",
    "    \"Thursday\": 5,\n",
    "    \"Friday\": 6,\n",
    "    \"Saturday\": 7\n",
    "    \n",
    "}\n",
    "print(my_dictionary)"
   ]
  },
  {
   "cell_type": "markdown",
   "id": "9c9e6263",
   "metadata": {},
   "source": [
    "D={‘k1’:[1,2,3]} what is the output of d[k1][1]\n"
   ]
  },
  {
   "cell_type": "code",
   "execution_count": 22,
   "id": "cbd82606",
   "metadata": {},
   "outputs": [
    {
     "name": "stdout",
     "output_type": "stream",
     "text": [
      "2\n"
     ]
    }
   ],
   "source": [
    "D ={\"k1\": [1,2,3]}\n",
    "print(D[\"k1\"][1])"
   ]
  },
  {
   "cell_type": "markdown",
   "id": "1623bc94",
   "metadata": {},
   "source": [
    "Can you create a list [1,[2,3]] into a tuple"
   ]
  },
  {
   "cell_type": "code",
   "execution_count": 38,
   "id": "164c1f92",
   "metadata": {},
   "outputs": [
    {
     "name": "stdout",
     "output_type": "stream",
     "text": [
      "<class 'tuple'>\n",
      "(1, [2, 3])\n"
     ]
    }
   ],
   "source": [
    "# my_tuple = (1,[2,3])\n",
    "tuple([1,[2,3]])\n",
    "print(type(my_tuple))\n",
    "print(my_tuple)"
   ]
  },
  {
   "cell_type": "markdown",
   "id": "1a67af69",
   "metadata": {},
   "source": [
    "With a single set function can you turn the word ‘Mississippi’ to distinct character word"
   ]
  },
  {
   "cell_type": "code",
   "execution_count": 40,
   "id": "56a252a9",
   "metadata": {},
   "outputs": [
    {
     "name": "stdout",
     "output_type": "stream",
     "text": [
      "ippississiM\n"
     ]
    }
   ],
   "source": [
    "w = \"Mississippi\"\n",
    "print(w[::-1])"
   ]
  },
  {
   "cell_type": "markdown",
   "id": "54e66eeb",
   "metadata": {},
   "source": [
    "Can you add an element ‘X’ to the above created set\n"
   ]
  },
  {
   "cell_type": "code",
   "execution_count": 35,
   "id": "71afd831",
   "metadata": {},
   "outputs": [
    {
     "name": "stdout",
     "output_type": "stream",
     "text": [
      "{'x', 1, 'apple', 'onion'}\n"
     ]
    }
   ],
   "source": [
    "my_setx = {\"apple\", 1 , \"onion\"}\n",
    "my_setx.add(\"x\")\n",
    "print(my_setx)"
   ]
  },
  {
   "cell_type": "markdown",
   "id": "83261002",
   "metadata": {},
   "source": [
    "Output of set([1,1,2,3])"
   ]
  },
  {
   "cell_type": "code",
   "execution_count": 55,
   "id": "f3e0ff45",
   "metadata": {},
   "outputs": [
    {
     "name": "stdout",
     "output_type": "stream",
     "text": [
      "{1, 2, 3}\n"
     ]
    }
   ],
   "source": [
    "print(set([1,1,2,3]))"
   ]
  },
  {
   "cell_type": "markdown",
   "id": "3fc526ad",
   "metadata": {},
   "source": [
    "Write a program which will find all such numbers which are divisible by 7 but are not a multiple of 5,between 2000 and 3200 (both included).\n",
    "Hints: \n",
    "\tConsider use range(#begin, #end) method"
   ]
  },
  {
   "cell_type": "code",
   "execution_count": 61,
   "id": "c4ccb5b4",
   "metadata": {},
   "outputs": [
    {
     "name": "stdout",
     "output_type": "stream",
     "text": [
      "2030,2065,2100,2135,2170,2205,2240,2275,2310,2345,2380,2415,2450,2485,2520,2555,2590,2625,2660,2695,2730,2765,2800,2835,2870,2905,2940,2975,3010,3045,3080,3115,3150,3185\n"
     ]
    }
   ],
   "source": [
    "divisible_list=[]\n",
    "#function range(#begin, #end)\n",
    "for num_d in range(2000,3200):\n",
    "    \n",
    "    if (num_d%7==0) and (num_d%5==0):\n",
    "        divisible_list.append(str(num_d))\n",
    "        \n",
    "# numbers obtained should be printed in a comma-separated sequence on a single line.\n",
    "print (','.join(divisible_list))"
   ]
  },
  {
   "cell_type": "markdown",
   "id": "1b0e5113",
   "metadata": {},
   "source": [
    "Write a program which can compute the factorial of a given numbers.\n",
    "\tThe results should be printed in a comma-separated sequence on a single line.\n",
    "\tSuppose the following input is supplied to the program:"
   ]
  },
  {
   "cell_type": "code",
   "execution_count": 62,
   "id": "0702bac9",
   "metadata": {
    "scrolled": true
   },
   "outputs": [
    {
     "name": "stdout",
     "output_type": "stream",
     "text": [
      "Please enter number to compute factorial: 2\n",
      "2\n"
     ]
    }
   ],
   "source": [
    "\n",
    "n = int(input(\"Please enter number to compute factorial: \"))\n",
    "\n",
    "n_factorial = 1\n",
    "#function range(#begin, #end)\n",
    "for i in range(1,n+1):\n",
    "    n_factorial *= i\n",
    "    \n",
    "print(n_factorial)"
   ]
  },
  {
   "cell_type": "markdown",
   "id": "2e8e184a",
   "metadata": {},
   "source": [
    "With a given integral number n, write a program to generate a dictionary that contains (i, i*i) such that is an integral number between 1 and n (both included). and then the program should print the dictionary."
   ]
  },
  {
   "cell_type": "code",
   "execution_count": 68,
   "id": "f414bb66",
   "metadata": {},
   "outputs": [
    {
     "name": "stdout",
     "output_type": "stream",
     "text": [
      "Please enter an integral number n: 4\n",
      "{1: 1, 2: 4, 3: 9, 4: 16}\n"
     ]
    }
   ],
   "source": [
    "user_n = int(input(\"Please enter an integral number n: \"))\n",
    "my_dictionary = {}\n",
    "for i in range(1, user_n + 1):\n",
    "#assign to each unique key its value squared\n",
    "    my_dictionary[i] = i*i\n",
    "print(my_dictionary)"
   ]
  },
  {
   "cell_type": "markdown",
   "id": "281e7a39",
   "metadata": {},
   "source": [
    "Write a program which accepts a sequence of comma-separated numbers from console and generate a list and a tuple which contains every number.\n",
    "    "
   ]
  },
  {
   "cell_type": "code",
   "execution_count": 75,
   "id": "41d1d9c4",
   "metadata": {},
   "outputs": [
    {
     "name": "stdout",
     "output_type": "stream",
     "text": [
      "Please enter a sequence of values separated by a comma34,43,3,0,1,11\n",
      "['34', '43', '3', '0', '1', '11']\n",
      "('34', '43', '3', '0', '1', '11')\n"
     ]
    }
   ],
   "source": [
    "user_sequence = input(\"Please enter a sequence of values separated by a comma\")\n",
    "splitted_user_sequence = user_sequence.split(\",\")\n",
    "print(splitted_user_sequence)\n",
    "print(tuple(splitted_user_sequence))"
   ]
  },
  {
   "cell_type": "markdown",
   "id": "568bff2a",
   "metadata": {},
   "source": [
    "Define a class which has at least two methods:\n",
    "\tgetString: to get a string from console input\n",
    "\tprintString: to print the string in upper case.\n"
   ]
  },
  {
   "cell_type": "code",
   "execution_count": 90,
   "id": "ffe1e5b8",
   "metadata": {},
   "outputs": [
    {
     "name": "stdout",
     "output_type": "stream",
     "text": [
      "String is: Hello World\n"
     ]
    }
   ],
   "source": [
    "# Use the __init__() function to assign values to object properties, \n",
    "# or other operations that are necessary to do when the object is being created:\n",
    "class CustomIOString:\n",
    "    def __init__(str, user_str):\n",
    "        str.user_str = user_str\n",
    "\n",
    "    def getString(str):\n",
    "        str.user_str = str\n",
    "    def printString(str):\n",
    "        print(\"String is: \" + str.user_str)\n",
    "\n",
    "s1 = CustomIOString(\"Hello World\")\n",
    "s1.printString()\n"
   ]
  }
 ],
 "metadata": {
  "kernelspec": {
   "display_name": "Python 3",
   "language": "python",
   "name": "python3"
  },
  "language_info": {
   "codemirror_mode": {
    "name": "ipython",
    "version": 3
   },
   "file_extension": ".py",
   "mimetype": "text/x-python",
   "name": "python",
   "nbconvert_exporter": "python",
   "pygments_lexer": "ipython3",
   "version": "3.8.8"
  }
 },
 "nbformat": 4,
 "nbformat_minor": 5
}
