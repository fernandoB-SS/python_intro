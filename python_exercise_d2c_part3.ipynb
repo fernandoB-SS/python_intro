{
 "cells": [
  {
   "cell_type": "markdown",
   "id": "9aee021b",
   "metadata": {},
   "source": [
    "Six is a Mob\n",
    "Save your program from Three is a Crowd - Part 2 under a new name.\n",
    "Add some names to your list, so that there are at least six people in the list.\n",
    "Modify your tests so that\n",
    "If there are more than 5 people, a message is printed about there being a mob in the room.\n",
    "If there are 3-5 people, a message is printed about the room being crowded.\n",
    "If there are 1 or 2 people, a message is printed about the room not being crowded.\n",
    "If there are no people in the room, a message is printed abou the room being empty.\n"
   ]
  },
  {
   "cell_type": "code",
   "execution_count": 14,
   "id": "8b363d67",
   "metadata": {},
   "outputs": [
    {
     "name": "stdout",
     "output_type": "stream",
     "text": [
      "Room is not very crowded\n",
      "The room is crowded\n",
      "There is a mob in the room\n"
     ]
    }
   ],
   "source": [
    "couple_list = [\"Dom\", \"Wendy\"]\n",
    "crowd_list = [\"John\", \"Dom\", \"Jack\",\"Wendy\", \"Theodore\"]\n",
    "mob_list = [\"Wendy\", \"Theodore\", \"Maximillian\",\"John\", \"Dom\", \"Jack\"]\n",
    "\n",
    "def crowd_test(crowd):\n",
    "    #   remove last element of list\n",
    "    crowd_list.pop()\n",
    "    if len(crowd) > 5:\n",
    "        print(\"There is a mob in the room\")\n",
    "    elif (len(crowd) < 6 and len(crowd) >= 3):\n",
    "        print(\"The room is crowded\")\n",
    "    else:\n",
    "        print(\"Room is not very crowded\")\n",
    "        \n",
    "crowd_test(couple_list)\n",
    "crowd_test(crowd_list)\n",
    "crowd_test(mob_list)"
   ]
  }
 ],
 "metadata": {
  "kernelspec": {
   "display_name": "Python 3",
   "language": "python",
   "name": "python3"
  },
  "language_info": {
   "codemirror_mode": {
    "name": "ipython",
    "version": 3
   },
   "file_extension": ".py",
   "mimetype": "text/x-python",
   "name": "python",
   "nbconvert_exporter": "python",
   "pygments_lexer": "ipython3",
   "version": "3.8.8"
  }
 },
 "nbformat": 4,
 "nbformat_minor": 5
}
